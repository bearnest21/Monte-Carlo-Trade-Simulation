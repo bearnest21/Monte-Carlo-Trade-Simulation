{
 "cells": [
  {
   "cell_type": "markdown",
   "metadata": {},
   "source": [
    "# Monte Carlo Trade Simulation"
   ]
  },
  {
   "cell_type": "code",
   "execution_count": 254,
   "metadata": {},
   "outputs": [],
   "source": [
    "#import required libraries\n",
    "import numpy as np\n",
    "import pandas as pd\n",
    "import matplotlib.pyplot as plt\n",
    "from itertools import groupby"
   ]
  },
  {
   "cell_type": "markdown",
   "metadata": {},
   "source": [
    "I only included the original data in what I loaded, then I reduced it down to only the original trade results.  Here are the first few rows so you can see what I used."
   ]
  },
  {
   "cell_type": "code",
   "execution_count": 255,
   "metadata": {},
   "outputs": [
    {
     "data": {
      "text/html": [
       "<div>\n",
       "<style scoped>\n",
       "    .dataframe tbody tr th:only-of-type {\n",
       "        vertical-align: middle;\n",
       "    }\n",
       "\n",
       "    .dataframe tbody tr th {\n",
       "        vertical-align: top;\n",
       "    }\n",
       "\n",
       "    .dataframe thead th {\n",
       "        text-align: right;\n",
       "    }\n",
       "</style>\n",
       "<table border=\"1\" class=\"dataframe\">\n",
       "  <thead>\n",
       "    <tr style=\"text-align: right;\">\n",
       "      <th></th>\n",
       "      <th>trade</th>\n",
       "      <th>cum_return</th>\n",
       "      <th>capital</th>\n",
       "      <th>%_drawdown_from_max</th>\n",
       "      <th>losses</th>\n",
       "    </tr>\n",
       "  </thead>\n",
       "  <tbody>\n",
       "    <tr>\n",
       "      <th>0</th>\n",
       "      <td>-1.00</td>\n",
       "      <td>-1.00</td>\n",
       "      <td>99,000.00</td>\n",
       "      <td>-0.01</td>\n",
       "      <td>1.00</td>\n",
       "    </tr>\n",
       "    <tr>\n",
       "      <th>1</th>\n",
       "      <td>3.41</td>\n",
       "      <td>2.41</td>\n",
       "      <td>102,375.90</td>\n",
       "      <td>0.00</td>\n",
       "      <td>NaN</td>\n",
       "    </tr>\n",
       "    <tr>\n",
       "      <th>2</th>\n",
       "      <td>-1.00</td>\n",
       "      <td>1.41</td>\n",
       "      <td>101,352.14</td>\n",
       "      <td>-0.01</td>\n",
       "      <td>1.00</td>\n",
       "    </tr>\n",
       "    <tr>\n",
       "      <th>3</th>\n",
       "      <td>4.85</td>\n",
       "      <td>6.26</td>\n",
       "      <td>106,267.72</td>\n",
       "      <td>0.00</td>\n",
       "      <td>NaN</td>\n",
       "    </tr>\n",
       "    <tr>\n",
       "      <th>4</th>\n",
       "      <td>-1.00</td>\n",
       "      <td>5.26</td>\n",
       "      <td>105,205.04</td>\n",
       "      <td>-0.01</td>\n",
       "      <td>1.00</td>\n",
       "    </tr>\n",
       "  </tbody>\n",
       "</table>\n",
       "</div>"
      ],
      "text/plain": [
       "   trade  cum_return    capital  %_drawdown_from_max  losses\n",
       "0  -1.00       -1.00  99,000.00                -0.01    1.00\n",
       "1   3.41        2.41 102,375.90                 0.00     NaN\n",
       "2  -1.00        1.41 101,352.14                -0.01    1.00\n",
       "3   4.85        6.26 106,267.72                 0.00     NaN\n",
       "4  -1.00        5.26 105,205.04                -0.01    1.00"
      ]
     },
     "execution_count": 255,
     "metadata": {},
     "output_type": "execute_result"
    }
   ],
   "source": [
    "# Load the Trade Data\n",
    "file_path = \"C:/Users/earne/OneDrive/Upwork/trade_monte_carlo/data/\" # Enter your file path here\n",
    "file_name = \"trade_data.csv\" #enter name of csv file\n",
    "trade_results = pd.read_csv(file_path + file_name)\n",
    "trade_results.head(5)"
   ]
  },
  {
   "cell_type": "markdown",
   "metadata": {},
   "source": [
    "Number of rows and columns"
   ]
  },
  {
   "cell_type": "code",
   "execution_count": 256,
   "metadata": {},
   "outputs": [
    {
     "data": {
      "text/plain": [
       "(156, 5)"
      ]
     },
     "execution_count": 256,
     "metadata": {},
     "output_type": "execute_result"
    }
   ],
   "source": [
    "trade_results.shape"
   ]
  },
  {
   "cell_type": "code",
   "execution_count": 257,
   "metadata": {},
   "outputs": [
    {
     "data": {
      "text/plain": [
       "0   -1.00\n",
       "1    3.41\n",
       "2   -1.00\n",
       "3    4.85\n",
       "4   -1.00\n",
       "Name: trade, dtype: float64"
      ]
     },
     "execution_count": 257,
     "metadata": {},
     "output_type": "execute_result"
    }
   ],
   "source": [
    "#fill the NaN values with 0 in \"losses\" column\n",
    "trade_results['losses'] = trade_results['losses'].fillna(0)\n",
    "# Only use the trade results column:\n",
    "trade_results = trade_results['trade']\n",
    "trade_results.head(5)"
   ]
  },
  {
   "cell_type": "markdown",
   "metadata": {},
   "source": [
    "Here I used 1000 random trades sampled from the original 156, then repeated that simulation 1000 times."
   ]
  },
  {
   "cell_type": "code",
   "execution_count": 258,
   "metadata": {},
   "outputs": [],
   "source": [
    "# Parameters for the simulation\n",
    "num_simulations = 1000\n",
    "num_trades_per_simulation = 1000\n",
    "initial_capital = 100000\n",
    "\n",
    "# Function to handle zero and negative values in cumulative return calculation\n",
    "# Function to calculate drawdowns and consecutive losses\n",
    "\n",
    "def calculate_drawdowns(trades):\n",
    "    cumulative_returns = np.cumprod(1 + trades / 100)  # Convert percentage to decimal\n",
    "    peak = np.maximum.accumulate(cumulative_returns)\n",
    "    drawdowns = np.where(peak != 0, (cumulative_returns - peak) / peak, 0)\n",
    "    max_drawdown = np.min(drawdowns)\n",
    "\n",
    "    # Calculate consecutive losses\n",
    "    losses = (trades < 0).astype(int)  # 1 if loss, 0 otherwise\n",
    "    max_consecutive_losses = max([sum(1 for _ in group) for key, group in groupby(losses) if key == 1], default=0)\n",
    "    \n",
    "    return max_drawdown, np.mean(drawdowns), max_consecutive_losses\n"
   ]
  },
  {
   "cell_type": "code",
   "execution_count": 259,
   "metadata": {},
   "outputs": [],
   "source": [
    "# Run the Monte Carlo Simulation\n",
    "max_drawdowns = []\n",
    "average_drawdowns = []\n",
    "consecutive_losses = []\n",
    "average_total_returns = []\n",
    "\n",
    "for _ in range(num_simulations):\n",
    "    sampled_trades = np.random.choice(trade_results, num_trades_per_simulation, replace=True)\n",
    "    max_dd, avg_dd, max_loss_streak = calculate_drawdowns(sampled_trades)\n",
    "    max_drawdowns.append(max_dd)\n",
    "    average_drawdowns.append(avg_dd)\n",
    "    consecutive_losses.append(max_loss_streak)\n",
    "    \n",
    "     # Calculate total return starting from initial capital\n",
    "    capital = initial_capital\n",
    "    for trade in sampled_trades:\n",
    "        capital *= (1 + trade / 100)  # Convert percent return to decimal and apply to capital\n",
    "    \n",
    "    # Calculate average return for this simulation\n",
    "    total_return = (capital - initial_capital) / initial_capital * 100  # Total return in percentage\n",
    "    average_total_returns.append(total_return)"
   ]
  },
  {
   "cell_type": "markdown",
   "metadata": {},
   "source": [
    "Distributions of some results"
   ]
  },
  {
   "cell_type": "code",
   "execution_count": 260,
   "metadata": {},
   "outputs": [
    {
     "data": {
      "image/png": "[encoded data removed]",
      "text/plain": [
       "<Figure size 2000x600 with 4 Axes>"
      ]
     },
     "metadata": {},
     "output_type": "display_data"
    }
   ],
   "source": [
    "# Plot histogram of results\n",
    "plt.figure(figsize=(20, 6))\n",
    "\n",
    "# Max Drawdown\n",
    "plt.subplot(1, 4, 1)\n",
    "plt.hist(max_drawdowns, bins=20, edgecolor='black')\n",
    "plt.title(\"Max Drawdown Distribution\")\n",
    "plt.xlabel(\"Max Drawdown (%)\")\n",
    "plt.ylabel(\"Frequency\")\n",
    "\n",
    "# Average Drawdown\n",
    "plt.subplot(1, 4, 2)\n",
    "plt.hist(average_drawdowns, bins=20, edgecolor='black')\n",
    "plt.title(\"Average Drawdown Distribution\")\n",
    "plt.xlabel(\"Average Drawdown (%)\")\n",
    "plt.ylabel(\"Frequency\")\n",
    "\n",
    "# Consecutive Losses\n",
    "plt.subplot(1, 4, 3)\n",
    "plt.hist(consecutive_losses, bins=20, edgecolor='black')\n",
    "plt.title(\"Consecutive Losses Distribution\")\n",
    "plt.xlabel(\"Max Consecutive Losses (#Trades)\")\n",
    "plt.ylabel(\"Frequency\")\n",
    "\n",
    "# Average returns for each 1000 trade simulation\n",
    "plt.subplot(1, 4, 4)\n",
    "plt.hist(average_total_returns, bins=20, edgecolor='black')\n",
    "plt.title(\"Average Total Return Distribution for 1000 Simulations\")\n",
    "plt.xlabel(\"Average Total Return ($M)\")\n",
    "plt.ylabel(\"Frequency\")\n",
    "\n",
    "plt.tight_layout()\n",
    "plt.show()\n"
   ]
  },
  {
   "cell_type": "markdown",
   "metadata": {},
   "source": [
    "Here are the requested summary statistics.  Since we are simulating 1000 trades instead of 156, the strategy results in higher returns over time (or more trades)."
   ]
  },
  {
   "cell_type": "code",
   "execution_count": 261,
   "metadata": {},
   "outputs": [
    {
     "data": {
      "text/html": [
       "<div>\n",
       "<style scoped>\n",
       "    .dataframe tbody tr th:only-of-type {\n",
       "        vertical-align: middle;\n",
       "    }\n",
       "\n",
       "    .dataframe tbody tr th {\n",
       "        vertical-align: top;\n",
       "    }\n",
       "\n",
       "    .dataframe thead th {\n",
       "        text-align: right;\n",
       "    }\n",
       "</style>\n",
       "<table border=\"1\" class=\"dataframe\">\n",
       "  <thead>\n",
       "    <tr style=\"text-align: right;\">\n",
       "      <th></th>\n",
       "      <th>Total return</th>\n",
       "      <th>Gain (%)</th>\n",
       "      <th>Ret. per month (%)</th>\n",
       "      <th>Max DD (%)</th>\n",
       "      <th>Average dd (%)</th>\n",
       "      <th>Consec_loss</th>\n",
       "      <th>Ret.//dd.</th>\n",
       "    </tr>\n",
       "  </thead>\n",
       "  <tbody>\n",
       "    <tr>\n",
       "      <th>Average</th>\n",
       "      <td>281,605.03</td>\n",
       "      <td>181.61</td>\n",
       "      <td>1.42</td>\n",
       "      <td>-14.67</td>\n",
       "      <td>-2.41</td>\n",
       "      <td>12.45</td>\n",
       "      <td>12.38</td>\n",
       "    </tr>\n",
       "    <tr>\n",
       "      <th>SD</th>\n",
       "      <td></td>\n",
       "      <td>264.62</td>\n",
       "      <td>2.07</td>\n",
       "      <td>0.03</td>\n",
       "      <td>0.00</td>\n",
       "      <td></td>\n",
       "      <td></td>\n",
       "    </tr>\n",
       "    <tr>\n",
       "      <th>Best</th>\n",
       "      <td>2,324,448.33</td>\n",
       "      <td>2,224.45</td>\n",
       "      <td>17.38</td>\n",
       "      <td>-7.73</td>\n",
       "      <td>-1.55</td>\n",
       "      <td>7.00</td>\n",
       "      <td>287.93</td>\n",
       "    </tr>\n",
       "    <tr>\n",
       "      <th>Worst</th>\n",
       "      <td>111,520.56</td>\n",
       "      <td>11.52</td>\n",
       "      <td>0.09</td>\n",
       "      <td>-27.22</td>\n",
       "      <td>-3.98</td>\n",
       "      <td>25.00</td>\n",
       "      <td>0.42</td>\n",
       "    </tr>\n",
       "  </tbody>\n",
       "</table>\n",
       "</div>"
      ],
      "text/plain": [
       "        Total return  Gain (%)  Ret. per month (%)  Max DD (%)  \\\n",
       "Average   281,605.03    181.61                1.42      -14.67   \n",
       "SD                      264.62                2.07        0.03   \n",
       "Best    2,324,448.33  2,224.45               17.38       -7.73   \n",
       "Worst     111,520.56     11.52                0.09      -27.22   \n",
       "\n",
       "         Average dd (%) Consec_loss Ret.//dd.  \n",
       "Average           -2.41       12.45     12.38  \n",
       "SD                 0.00                        \n",
       "Best              -1.55        7.00    287.93  \n",
       "Worst             -3.98       25.00      0.42  "
      ]
     },
     "execution_count": 261,
     "metadata": {},
     "output_type": "execute_result"
    }
   ],
   "source": [
    "# Set global formatting option for pandas\n",
    "pd.options.display.float_format = '{:,.2f}'.format\n",
    "\n",
    "months = 128\n",
    "\n",
    "# Simplified code for creating the summary statistics DataFrame\n",
    "average_total_returns_mean = np.mean(average_total_returns) + initial_capital\n",
    "average_total_returns_sd = np.std(average_total_returns) + initial_capital\n",
    "average_total_returns_max = np.max(average_total_returns) + initial_capital\n",
    "average_total_returns_min = np.min(average_total_returns) + initial_capital\n",
    "\n",
    "gain_percent = [(value - initial_capital) / initial_capital * 100 for value in \n",
    "                [average_total_returns_mean, average_total_returns_max, average_total_returns_min]]\n",
    "gain_percent_sd = (average_total_returns_sd / initial_capital) * 100  # SD for gain percent\n",
    "\n",
    "ret_per_month = [gain / months for gain in gain_percent]\n",
    "ret_per_month_sd = gain_percent_sd / months  # SD for monthly return\n",
    "\n",
    "ret_dd_ratio = [gain / (dd * 100) * -1 for gain, dd in zip(gain_percent, [np.mean(max_drawdowns), np.max(max_drawdowns), np.min(max_drawdowns)])]\n",
    "\n",
    "# Create the DataFrame with rows in the correct order\n",
    "summary_stats_df = pd.DataFrame({\n",
    "    'Total return': [average_total_returns_mean, np.nan, average_total_returns_max, average_total_returns_min],\n",
    "    'Gain (%)': [gain_percent[0], gain_percent_sd, gain_percent[1], gain_percent[2]],\n",
    "    'Ret. per month (%)': [ret_per_month[0], ret_per_month_sd, ret_per_month[1], ret_per_month[2]],\n",
    "    'Max DD (%)': [np.mean(max_drawdowns) * 100, np.std(max_drawdowns), np.max(max_drawdowns) * 100, np.min(max_drawdowns) * 100],\n",
    "    'Average dd (%)': [np.mean(average_drawdowns) * 100, np.std(average_drawdowns), np.max(average_drawdowns) * 100, np.min(average_drawdowns) * 100],\n",
    "    'Consec_loss': [np.mean(consecutive_losses), np.nan, np.min(consecutive_losses), np.max(consecutive_losses)],\n",
    "    'Ret.//dd.': [ret_dd_ratio[0], np.nan, ret_dd_ratio[1], ret_dd_ratio[2]]\n",
    "}, index=['Average', 'SD', 'Best', 'Worst'])\n",
    "\n",
    "summary_stats_df = summary_stats_df.fillna('')\n",
    "\n",
    "# Display the DataFrame\n",
    "summary_stats_df\n"
   ]
  },
  {
   "cell_type": "markdown",
   "metadata": {},
   "source": [
    "Adding the median return for context"
   ]
  },
  {
   "cell_type": "code",
   "execution_count": 262,
   "metadata": {},
   "outputs": [
    {
     "data": {
      "text/plain": [
       "{'Median Return': 236392.1774100614}"
      ]
     },
     "execution_count": 262,
     "metadata": {},
     "output_type": "execute_result"
    }
   ],
   "source": [
    "median_return = {'Median Return' : np.median(average_total_returns) + initial_capital}\n",
    "\n",
    "median_return"
   ]
  }
 ],
 "metadata": {
  "kernelspec": {
   "display_name": "Python 3",
   "language": "python",
   "name": "python3"
  },
  "language_info": {
   "codemirror_mode": {
    "name": "ipython",
    "version": 3
   },
   "file_extension": ".py",
   "mimetype": "text/x-python",
   "name": "python",
   "nbconvert_exporter": "python",
   "pygments_lexer": "ipython3",
   "version": "3.11.9"
  }
 },
 "nbformat": 4,
 "nbformat_minor": 2
}
